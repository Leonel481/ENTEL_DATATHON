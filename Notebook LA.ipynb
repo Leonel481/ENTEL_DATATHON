{
 "cells": [
  {
   "cell_type": "code",
   "execution_count": 2,
   "id": "31847929",
   "metadata": {
    "ExecuteTime": {
     "end_time": "2022-07-28T22:29:51.776451Z",
     "start_time": "2022-07-28T22:29:51.121262Z"
    }
   },
   "outputs": [],
   "source": [
    "import opendatasets as od"
   ]
  },
  {
   "cell_type": "code",
   "execution_count": 3,
   "id": "272f3dd0",
   "metadata": {
    "ExecuteTime": {
     "end_time": "2022-07-28T22:30:24.024285Z",
     "start_time": "2022-07-28T22:30:05.554286Z"
    }
   },
   "outputs": [
    {
     "name": "stdout",
     "output_type": "stream",
     "text": [
      "Please provide your Kaggle credentials to download this dataset. Learn more: http://bit.ly/kaggle-creds\n",
      "Your Kaggle username: richardramosflores\n",
      "Your Kaggle Key: ········\n"
     ]
    },
    {
     "name": "stderr",
     "output_type": "stream",
     "text": [
      "\r",
      "  0%|                                                                                      | 0.00/18.6M [00:00<?, ?B/s]"
     ]
    },
    {
     "name": "stdout",
     "output_type": "stream",
     "text": [
      "Downloading datathon-entel-2022-reto2.zip to .\\datathon-entel-2022-reto2\n"
     ]
    },
    {
     "name": "stderr",
     "output_type": "stream",
     "text": [
      "100%|█████████████████████████████████████████████████████████████████████████████| 18.6M/18.6M [00:01<00:00, 18.5MB/s]\n"
     ]
    },
    {
     "name": "stdout",
     "output_type": "stream",
     "text": [
      "\n",
      "Extracting archive .\\datathon-entel-2022-reto2/datathon-entel-2022-reto2.zip to .\\datathon-entel-2022-reto2\n"
     ]
    }
   ],
   "source": [
    "od.download(\"https://www.kaggle.com/competitions/datathon-entel-2022-reto2/data\")"
   ]
  },
  {
   "cell_type": "code",
   "execution_count": 14,
   "id": "393cc3bf",
   "metadata": {
    "ExecuteTime": {
     "end_time": "2022-07-28T22:40:47.789445Z",
     "start_time": "2022-07-28T22:40:25.273820Z"
    }
   },
   "outputs": [],
   "source": [
    "import os, glob\n",
    "import numpy as np\n",
    "import pandas as pd\n",
    "\n",
    "import sweetviz as sv\n",
    "\n",
    "import matplotlib.pyplot as plt\n",
    "import seaborn as sns"
   ]
  },
  {
   "cell_type": "code",
   "execution_count": 5,
   "id": "ef7c7cc2",
   "metadata": {
    "ExecuteTime": {
     "end_time": "2022-07-28T22:35:46.904079Z",
     "start_time": "2022-07-28T22:35:46.889087Z"
    }
   },
   "outputs": [],
   "source": [
    "os.chdir(r'C:\\Users\\USUARIO\\Desktop\\Hackaton_Entel\\Notebook\\datathon-entel-2022-reto2')"
   ]
  },
  {
   "cell_type": "code",
   "execution_count": 6,
   "id": "74aea5fa",
   "metadata": {
    "ExecuteTime": {
     "end_time": "2022-07-28T22:36:41.917688Z",
     "start_time": "2022-07-28T22:36:41.273608Z"
    }
   },
   "outputs": [],
   "source": [
    "df_train = pd.read_csv('train.csv', sep=',')"
   ]
  },
  {
   "cell_type": "code",
   "execution_count": 7,
   "id": "c71edc50",
   "metadata": {
    "ExecuteTime": {
     "end_time": "2022-07-28T22:36:45.984647Z",
     "start_time": "2022-07-28T22:36:45.850826Z"
    }
   },
   "outputs": [
    {
     "data": {
      "text/html": [
       "<div>\n",
       "<style scoped>\n",
       "    .dataframe tbody tr th:only-of-type {\n",
       "        vertical-align: middle;\n",
       "    }\n",
       "\n",
       "    .dataframe tbody tr th {\n",
       "        vertical-align: top;\n",
       "    }\n",
       "\n",
       "    .dataframe thead th {\n",
       "        text-align: right;\n",
       "    }\n",
       "</style>\n",
       "<table border=\"1\" class=\"dataframe\">\n",
       "  <thead>\n",
       "    <tr style=\"text-align: right;\">\n",
       "      <th></th>\n",
       "      <th>Z_MARCA</th>\n",
       "      <th>Z_GAMA</th>\n",
       "      <th>Z_MODELO</th>\n",
       "      <th>Z_DEPARTAMENTO</th>\n",
       "      <th>Z_PUNTO_VENTA</th>\n",
       "      <th>SEMANA_01</th>\n",
       "      <th>SEMANA_02</th>\n",
       "      <th>SEMANA_03</th>\n",
       "      <th>SEMANA_04</th>\n",
       "      <th>SEMANA_05</th>\n",
       "      <th>...</th>\n",
       "      <th>SEMANA_41</th>\n",
       "      <th>SEMANA_42</th>\n",
       "      <th>SEMANA_43</th>\n",
       "      <th>SEMANA_44</th>\n",
       "      <th>SEMANA_45</th>\n",
       "      <th>SEMANA_46</th>\n",
       "      <th>SEMANA_47</th>\n",
       "      <th>SEMANA_48</th>\n",
       "      <th>SEMANA_49</th>\n",
       "      <th>SEMANA_50</th>\n",
       "    </tr>\n",
       "  </thead>\n",
       "  <tbody>\n",
       "    <tr>\n",
       "      <th>0</th>\n",
       "      <td>f223faa96f22916294922b171a2696d868fd1f9129302e...</td>\n",
       "      <td>de88c121a82a06352bf1aaceba20578356408a334ba046...</td>\n",
       "      <td>f0465138ce3c092d78c1e33657fe604564d40cdc8cb196...</td>\n",
       "      <td>591c0a0133cb5fcd00af7bbf046f094256901239749fb7...</td>\n",
       "      <td>d2c888e1a77f2eb0732555cf018c3ca71bbcb32c73778c...</td>\n",
       "      <td>0</td>\n",
       "      <td>0</td>\n",
       "      <td>0</td>\n",
       "      <td>0</td>\n",
       "      <td>0</td>\n",
       "      <td>...</td>\n",
       "      <td>0</td>\n",
       "      <td>0</td>\n",
       "      <td>0</td>\n",
       "      <td>0</td>\n",
       "      <td>0</td>\n",
       "      <td>0</td>\n",
       "      <td>0</td>\n",
       "      <td>0</td>\n",
       "      <td>0</td>\n",
       "      <td>0</td>\n",
       "    </tr>\n",
       "    <tr>\n",
       "      <th>1</th>\n",
       "      <td>5132f94c2aebce767bd61d9e8f0d4f681d0809ca90cd2c...</td>\n",
       "      <td>76df0c6db32d4e04e0ef6a3a6a1e1686677e34308d9435...</td>\n",
       "      <td>85ac1d5351fa6c551dcaf4e9440939949f59fd6986c5ee...</td>\n",
       "      <td>d6c21b948958417ca98b682a573eb8aa1084b292d32f76...</td>\n",
       "      <td>99af5fbe4f1ce1a2d5c05d8d50543bb993dd621f259c8e...</td>\n",
       "      <td>0</td>\n",
       "      <td>0</td>\n",
       "      <td>0</td>\n",
       "      <td>0</td>\n",
       "      <td>0</td>\n",
       "      <td>...</td>\n",
       "      <td>0</td>\n",
       "      <td>0</td>\n",
       "      <td>0</td>\n",
       "      <td>0</td>\n",
       "      <td>0</td>\n",
       "      <td>0</td>\n",
       "      <td>0</td>\n",
       "      <td>0</td>\n",
       "      <td>0</td>\n",
       "      <td>0</td>\n",
       "    </tr>\n",
       "    <tr>\n",
       "      <th>2</th>\n",
       "      <td>f223faa96f22916294922b171a2696d868fd1f9129302e...</td>\n",
       "      <td>de88c121a82a06352bf1aaceba20578356408a334ba046...</td>\n",
       "      <td>ab82a1d82b6fbd27ffe90900dffa4e8018745ef082fdf2...</td>\n",
       "      <td>d6c21b948958417ca98b682a573eb8aa1084b292d32f76...</td>\n",
       "      <td>4d9927f9d9ebe9b3742b20cf87b37b72c526f39d160289...</td>\n",
       "      <td>1</td>\n",
       "      <td>0</td>\n",
       "      <td>0</td>\n",
       "      <td>0</td>\n",
       "      <td>0</td>\n",
       "      <td>...</td>\n",
       "      <td>0</td>\n",
       "      <td>0</td>\n",
       "      <td>0</td>\n",
       "      <td>0</td>\n",
       "      <td>0</td>\n",
       "      <td>0</td>\n",
       "      <td>0</td>\n",
       "      <td>0</td>\n",
       "      <td>0</td>\n",
       "      <td>0</td>\n",
       "    </tr>\n",
       "    <tr>\n",
       "      <th>3</th>\n",
       "      <td>285075a02b2679248a6b4636c3328bd3097626607c3e43...</td>\n",
       "      <td>8563abec343968034b0624650aed7254081e9e39e6b32e...</td>\n",
       "      <td>3f7d19feb71e55fc12b796a4cda0fbcec00511a039e758...</td>\n",
       "      <td>d6c21b948958417ca98b682a573eb8aa1084b292d32f76...</td>\n",
       "      <td>2fc9e521d966b9a311c1d3fc70abafa98dd0f37a51c71a...</td>\n",
       "      <td>0</td>\n",
       "      <td>0</td>\n",
       "      <td>0</td>\n",
       "      <td>0</td>\n",
       "      <td>0</td>\n",
       "      <td>...</td>\n",
       "      <td>0</td>\n",
       "      <td>0</td>\n",
       "      <td>0</td>\n",
       "      <td>0</td>\n",
       "      <td>0</td>\n",
       "      <td>0</td>\n",
       "      <td>0</td>\n",
       "      <td>0</td>\n",
       "      <td>0</td>\n",
       "      <td>0</td>\n",
       "    </tr>\n",
       "    <tr>\n",
       "      <th>4</th>\n",
       "      <td>df853f864c74fa85acd3a25cd0afed68f1f1d0ab249e17...</td>\n",
       "      <td>8563abec343968034b0624650aed7254081e9e39e6b32e...</td>\n",
       "      <td>dbd49c8cda7f4bbbfc2a8b337b5aa79dc8067b46ca1bf5...</td>\n",
       "      <td>d6c21b948958417ca98b682a573eb8aa1084b292d32f76...</td>\n",
       "      <td>729be1d813198ffecf16f8c581e474cd58ee5aa7d11cdf...</td>\n",
       "      <td>0</td>\n",
       "      <td>0</td>\n",
       "      <td>0</td>\n",
       "      <td>0</td>\n",
       "      <td>0</td>\n",
       "      <td>...</td>\n",
       "      <td>0</td>\n",
       "      <td>0</td>\n",
       "      <td>0</td>\n",
       "      <td>0</td>\n",
       "      <td>0</td>\n",
       "      <td>0</td>\n",
       "      <td>0</td>\n",
       "      <td>0</td>\n",
       "      <td>0</td>\n",
       "      <td>0</td>\n",
       "    </tr>\n",
       "  </tbody>\n",
       "</table>\n",
       "<p>5 rows × 55 columns</p>\n",
       "</div>"
      ],
      "text/plain": [
       "                                             Z_MARCA  \\\n",
       "0  f223faa96f22916294922b171a2696d868fd1f9129302e...   \n",
       "1  5132f94c2aebce767bd61d9e8f0d4f681d0809ca90cd2c...   \n",
       "2  f223faa96f22916294922b171a2696d868fd1f9129302e...   \n",
       "3  285075a02b2679248a6b4636c3328bd3097626607c3e43...   \n",
       "4  df853f864c74fa85acd3a25cd0afed68f1f1d0ab249e17...   \n",
       "\n",
       "                                              Z_GAMA  \\\n",
       "0  de88c121a82a06352bf1aaceba20578356408a334ba046...   \n",
       "1  76df0c6db32d4e04e0ef6a3a6a1e1686677e34308d9435...   \n",
       "2  de88c121a82a06352bf1aaceba20578356408a334ba046...   \n",
       "3  8563abec343968034b0624650aed7254081e9e39e6b32e...   \n",
       "4  8563abec343968034b0624650aed7254081e9e39e6b32e...   \n",
       "\n",
       "                                            Z_MODELO  \\\n",
       "0  f0465138ce3c092d78c1e33657fe604564d40cdc8cb196...   \n",
       "1  85ac1d5351fa6c551dcaf4e9440939949f59fd6986c5ee...   \n",
       "2  ab82a1d82b6fbd27ffe90900dffa4e8018745ef082fdf2...   \n",
       "3  3f7d19feb71e55fc12b796a4cda0fbcec00511a039e758...   \n",
       "4  dbd49c8cda7f4bbbfc2a8b337b5aa79dc8067b46ca1bf5...   \n",
       "\n",
       "                                      Z_DEPARTAMENTO  \\\n",
       "0  591c0a0133cb5fcd00af7bbf046f094256901239749fb7...   \n",
       "1  d6c21b948958417ca98b682a573eb8aa1084b292d32f76...   \n",
       "2  d6c21b948958417ca98b682a573eb8aa1084b292d32f76...   \n",
       "3  d6c21b948958417ca98b682a573eb8aa1084b292d32f76...   \n",
       "4  d6c21b948958417ca98b682a573eb8aa1084b292d32f76...   \n",
       "\n",
       "                                       Z_PUNTO_VENTA  SEMANA_01  SEMANA_02  \\\n",
       "0  d2c888e1a77f2eb0732555cf018c3ca71bbcb32c73778c...          0          0   \n",
       "1  99af5fbe4f1ce1a2d5c05d8d50543bb993dd621f259c8e...          0          0   \n",
       "2  4d9927f9d9ebe9b3742b20cf87b37b72c526f39d160289...          1          0   \n",
       "3  2fc9e521d966b9a311c1d3fc70abafa98dd0f37a51c71a...          0          0   \n",
       "4  729be1d813198ffecf16f8c581e474cd58ee5aa7d11cdf...          0          0   \n",
       "\n",
       "   SEMANA_03  SEMANA_04  SEMANA_05  ...  SEMANA_41  SEMANA_42  SEMANA_43  \\\n",
       "0          0          0          0  ...          0          0          0   \n",
       "1          0          0          0  ...          0          0          0   \n",
       "2          0          0          0  ...          0          0          0   \n",
       "3          0          0          0  ...          0          0          0   \n",
       "4          0          0          0  ...          0          0          0   \n",
       "\n",
       "   SEMANA_44  SEMANA_45  SEMANA_46  SEMANA_47  SEMANA_48  SEMANA_49  SEMANA_50  \n",
       "0          0          0          0          0          0          0          0  \n",
       "1          0          0          0          0          0          0          0  \n",
       "2          0          0          0          0          0          0          0  \n",
       "3          0          0          0          0          0          0          0  \n",
       "4          0          0          0          0          0          0          0  \n",
       "\n",
       "[5 rows x 55 columns]"
      ]
     },
     "execution_count": 7,
     "metadata": {},
     "output_type": "execute_result"
    }
   ],
   "source": [
    "df_train.head()"
   ]
  },
  {
   "cell_type": "code",
   "execution_count": 23,
   "id": "15f7b63c",
   "metadata": {
    "ExecuteTime": {
     "end_time": "2022-07-28T22:53:56.522962Z",
     "start_time": "2022-07-28T22:53:56.500982Z"
    }
   },
   "outputs": [
    {
     "data": {
      "text/plain": [
       "Index(['Z_MARCA', 'Z_GAMA', 'Z_MODELO', 'Z_DEPARTAMENTO', 'Z_PUNTO_VENTA',\n",
       "       'SEMANA_01', 'SEMANA_02', 'SEMANA_03', 'SEMANA_04', 'SEMANA_05',\n",
       "       'SEMANA_06', 'SEMANA_07', 'SEMANA_08', 'SEMANA_09', 'SEMANA_10',\n",
       "       'SEMANA_11', 'SEMANA_12', 'SEMANA_13', 'SEMANA_14', 'SEMANA_15',\n",
       "       'SEMANA_16', 'SEMANA_17', 'SEMANA_18', 'SEMANA_19', 'SEMANA_20',\n",
       "       'SEMANA_21', 'SEMANA_22', 'SEMANA_23', 'SEMANA_24', 'SEMANA_25',\n",
       "       'SEMANA_26', 'SEMANA_27', 'SEMANA_28', 'SEMANA_29', 'SEMANA_30',\n",
       "       'SEMANA_31', 'SEMANA_32', 'SEMANA_33', 'SEMANA_34', 'SEMANA_35',\n",
       "       'SEMANA_36', 'SEMANA_37', 'SEMANA_38', 'SEMANA_39', 'SEMANA_40',\n",
       "       'SEMANA_41', 'SEMANA_42', 'SEMANA_43', 'SEMANA_44', 'SEMANA_45',\n",
       "       'SEMANA_46', 'SEMANA_47', 'SEMANA_48', 'SEMANA_49', 'SEMANA_50'],\n",
       "      dtype='object')"
      ]
     },
     "execution_count": 23,
     "metadata": {},
     "output_type": "execute_result"
    }
   ],
   "source": [
    "df_train.columns"
   ]
  },
  {
   "cell_type": "code",
   "execution_count": 24,
   "id": "5f8855b7",
   "metadata": {
    "ExecuteTime": {
     "end_time": "2022-07-28T22:54:01.027410Z",
     "start_time": "2022-07-28T22:54:01.015418Z"
    }
   },
   "outputs": [
    {
     "data": {
      "text/plain": [
       "(47173, 55)"
      ]
     },
     "execution_count": 24,
     "metadata": {},
     "output_type": "execute_result"
    }
   ],
   "source": [
    "df_train.shape"
   ]
  },
  {
   "cell_type": "code",
   "execution_count": 8,
   "id": "8a6d749c",
   "metadata": {
    "ExecuteTime": {
     "end_time": "2022-07-28T22:37:39.669874Z",
     "start_time": "2022-07-28T22:37:39.633894Z"
    }
   },
   "outputs": [
    {
     "data": {
      "text/plain": [
       "285075a02b2679248a6b4636c3328bd3097626607c3e43c0c5498258fbfa9f29    11888\n",
       "9fc7c2306f5afb4bfe47feefbd193f245633febbb1817113fdf0a768172285b5    10631\n",
       "5132f94c2aebce767bd61d9e8f0d4f681d0809ca90cd2cd09be494f221367bb5     5951\n",
       "09c32757a9ca408c829114503523a5e6762dd1ba2b81067ad113837c1b30188b     5005\n",
       "f223faa96f22916294922b171a2696d868fd1f9129302eb41a45b2a2ea2ebbfd     2844\n",
       "df853f864c74fa85acd3a25cd0afed68f1f1d0ab249e17cdb25e77569ac595a2     2364\n",
       "4b1acc0002585cda1245f0e07c6f58ff0e3b5a0e8d3187fa55d6e0ed43836c1d     1317\n",
       "0855cd73c3a9dc2c31a7c4dcaecfd53282238c6a457a5c771cbee045c0d9a521     1225\n",
       "53c759c773f2b832ddcc61534bdb919d44e03be212241e7dad49b286afa95340     1211\n",
       "f41bcffa7463b16f9fea3293a550589718777902b4406c44e3150dad7c47bc3c      936\n",
       "22ea092e7643557ea91b74dea27589acac28a04fce976c577c422cd3ee1c9dc2      864\n",
       "c0dd56d5b73d72cbd9a3df3f70e0df98ce15417d0f8c3a678280beb763388a4f      724\n",
       "1d45ae99abcc02002be90eabecf61d0ce0613d1de5f0c37ddd7bbbd7e8198cf5      637\n",
       "c25b14ec280222786bd605c2e1d072a98fc18612a2dfe094da1a269e436f4621      608\n",
       "2aca20d3a48b13f1d2ee88e9746a4fb6d2846684084819272d6e5ff8809d62aa      421\n",
       "b870b7809747623def661ded7b0da0e52beddfc50235bbda65f1e8a34350ff7a      356\n",
       "f4920dac3075feca0bd92a92f6691f50e9f815e5e398f88c188499875b4a5129      191\n",
       "Name: Z_MARCA, dtype: int64"
      ]
     },
     "execution_count": 8,
     "metadata": {},
     "output_type": "execute_result"
    }
   ],
   "source": [
    "df_train['Z_MARCA'].value_counts()"
   ]
  },
  {
   "cell_type": "code",
   "execution_count": 9,
   "id": "08137364",
   "metadata": {
    "ExecuteTime": {
     "end_time": "2022-07-28T22:37:54.509486Z",
     "start_time": "2022-07-28T22:37:54.497492Z"
    }
   },
   "outputs": [
    {
     "data": {
      "text/plain": [
       "76df0c6db32d4e04e0ef6a3a6a1e1686677e34308d9435892b1ab5713e57d470    20785\n",
       "c4ebc6d4a5832cd9415f906ad03661110c705a72381c8b8b145761d02e2dd23a    12249\n",
       "de88c121a82a06352bf1aaceba20578356408a334ba046a1084d4e50da923c5e     5576\n",
       "8563abec343968034b0624650aed7254081e9e39e6b32ed45171fe31f6b7ee59     4453\n",
       "f793de205ead5ac302c4a1627829dea41f176b1068b993a32373fc869918374b     3719\n",
       "392323a5d3dcd1a8e9076af54e17b493ec11dceab6311d4bbab6044846cbbc3f      390\n",
       "14a2db592fdae9640e32d665e0b0007aecdf0dcad631fed35a1e60a23bef683a        1\n",
       "Name: Z_GAMA, dtype: int64"
      ]
     },
     "execution_count": 9,
     "metadata": {},
     "output_type": "execute_result"
    }
   ],
   "source": [
    "df_train['Z_GAMA'].value_counts()"
   ]
  },
  {
   "cell_type": "code",
   "execution_count": 10,
   "id": "050c10a6",
   "metadata": {
    "ExecuteTime": {
     "end_time": "2022-07-28T22:38:10.937648Z",
     "start_time": "2022-07-28T22:38:10.922646Z"
    }
   },
   "outputs": [
    {
     "data": {
      "text/plain": [
       "b48f98af5dc143cab1e64b72394fc2a31c8f2f53e20101b4183bad845e55e08c    481\n",
       "22e56e1cdf31281d499722a08d6bc23d10f6464b95d3f87a1632de534fd96815    479\n",
       "5cee5be86c7a5465071316a4046784896a2939c525c348a24fbb0a4a9bf66487    479\n",
       "1d4e22c0856f42bc31146274374980ed03e6043e0b0a738de5011a8aff3a6e15    470\n",
       "7f3c23cabb48628e7e3f10234eeae4d1391505ec8fd1ada732624bdc617824f3    470\n",
       "                                                                   ... \n",
       "279f219ef942df2f7ccffc98071a264ea78f668ac19ff4b4610638200a05da18      1\n",
       "d40a013eddfcc55588577620fd9afc934cf1ea6a79fc1cbe3b0db88aac6cfdbf      1\n",
       "31da2241bac9dbdb19a1d9ee17dbfcf9fe7a98f1903a1afa4d1485b1937b0cf0      1\n",
       "727fc29c603a311afe3f33ab3ac5c7f7a5c765d56545ba3ca0c6c8169bfc9d97      1\n",
       "0ccd5608de09548453d7aca2ef9441037165d15839c7984357ca54254b3676d0      1\n",
       "Name: Z_MODELO, Length: 318, dtype: int64"
      ]
     },
     "execution_count": 10,
     "metadata": {},
     "output_type": "execute_result"
    }
   ],
   "source": [
    "df_train['Z_MODELO'].value_counts()"
   ]
  },
  {
   "cell_type": "code",
   "execution_count": 12,
   "id": "4b6e2067",
   "metadata": {
    "ExecuteTime": {
     "end_time": "2022-07-28T22:38:54.267732Z",
     "start_time": "2022-07-28T22:38:54.249732Z"
    }
   },
   "outputs": [
    {
     "data": {
      "text/plain": [
       "d6c21b948958417ca98b682a573eb8aa1084b292d32f760f253ef53da13e5589    20475\n",
       "110820d992b7649baca108cda049eff2fcf6804fd4c989a60e4128406d56b14c     3091\n",
       "1fdd6772a58aa4eaf8c0055dfc2041085e5fc1e18aae6e9a2ad7db83f2355c5c     3046\n",
       "1e4e6d80f0a8df2a8145eec37f6efe3d0f7909cf05a4da01ac9eb0886dff2122     2944\n",
       "6375751784407a687081e34abb7c3e44a1d37b2d02ca31b97daf7131f0cc2ce8     2240\n",
       "7556b904d2033b7ef193294c2223f4c162c9e6337fc1a37cb5a926c605ab639e     2058\n",
       "5cd7368176e519fd5ccff4d61db909e869586b350e02f9ca13ff19de8e75c548     1771\n",
       "654cc2e01783fa726c8b5743841202e3f95ae18fb4697f2a56f47cbe3d736434     1583\n",
       "2170256e37ed495d1b4beceb046f9882b7d3628336fc04b9f6844822bc0f059a     1442\n",
       "b15acf3f3f9ac39f827a8f5e4559b8663be3b48b283dcd373a3dec87a1b3c902     1211\n",
       "28fa9368ededd016d5bd24b5d59fd461840dd1cc4fdaa8e62ed54bbdf51fa42e     1208\n",
       "591c0a0133cb5fcd00af7bbf046f094256901239749fb779b3c5aba2cfa66af7      958\n",
       "588ad85b346966aa3c52a8c80b4da62b8d8e39e6f37f38eb8a3907cba122bbca      944\n",
       "6ff2a97bf9139cd1f16dfd60cb95f37b7a74901738f7e7154d439002ca56bdb1      829\n",
       "ee5949f8b5ff823b330c243762295ce7ede1a751f35b941253cb473ca63e7d53      817\n",
       "b4881844f3dc91fa8992ca5489c7a0e31f23f1d14744619fd0a71b2d6da79139      522\n",
       "b4fe46822b8133e110db34fc42f36dc17c825ee69cb7a300fe10119722f801db      467\n",
       "1a7f1b5c30851a16a7831c496ed9e3d33e013f3a6e56713a0dcfa57189cee037      436\n",
       "e664206bf198ba39ebbfebb28817083919e34e7ab81caeeea5d30b980b4f58b6      254\n",
       "89e386538bdee9222240ad020bad45bbdfc465ef98a269fb9a2e43f430737910      234\n",
       "c128764a760c53a40bf2f3595b8cc89f4f43a8ea977f9d3d872b9f665f0bae2e      190\n",
       "c6fb05363dbe1210b658f130faf72d57c364e2e98fb5eae38c97f7e0a8482d42      169\n",
       "b265454a0d9f1a95defdde88e744ba25914f11a13667e63e902cd6dcb197aa34      104\n",
       "aa34223f43ece8f311e87687550cc5cd8e90d0e08d8545f3e93da2c4dccbb581       95\n",
       "41e2c31b68bdc286a69459b7899e425343891c59d4ee0cee2d135881a9dc6302       85\n",
       "Name: Z_DEPARTAMENTO, dtype: int64"
      ]
     },
     "execution_count": 12,
     "metadata": {},
     "output_type": "execute_result"
    }
   ],
   "source": [
    "df_train['Z_DEPARTAMENTO'].value_counts()"
   ]
  },
  {
   "cell_type": "code",
   "execution_count": 11,
   "id": "0c27647c",
   "metadata": {
    "ExecuteTime": {
     "end_time": "2022-07-28T22:38:52.590918Z",
     "start_time": "2022-07-28T22:38:52.577925Z"
    }
   },
   "outputs": [
    {
     "data": {
      "text/plain": [
       "da45328ba820604eb99694768f2a430cd933d161601dcb8491b4a9b555232c59    248\n",
       "e1f2d2708f545ddc1d7266ba0cc5ccc88147b77fdf3450e68a974e93018ecf60    222\n",
       "fa11ef5fde36a7f4b7ee225f0fb5edee8c8ee4b9d20d14be433b42f1ecb178d1    195\n",
       "81e83159fd0d3eee49cfc38870a6dd670a2192076c2e52dcddadc4f1f6927799    194\n",
       "056401aa750b776c7601aaaa4fa5312196f1f34bc429c094763ffa46b6c2164c    193\n",
       "                                                                   ... \n",
       "6c4ed9b88f69b9218188f8fe1343d722f52e82d3d482ba48feb3ab15cce09d28      5\n",
       "467e7dbdb30d36788914ae936f3eb3798fa11ec5eb40776dfa6836cb388aee92      4\n",
       "02b8ca33a9495853c0aca0184f9abcf8403023c6ad432c80f95d65cf631f27f2      3\n",
       "96b556f78615fbc7476e199ffd4ff5764ea0805faf5087c945b7b3eeebc3bc71      3\n",
       "ebd97eb30c9c0b4414600b10b467a44a9e29e93f093159f6cbee2d9898b03f4e      1\n",
       "Name: Z_PUNTO_VENTA, Length: 486, dtype: int64"
      ]
     },
     "execution_count": 11,
     "metadata": {},
     "output_type": "execute_result"
    }
   ],
   "source": [
    "df_train['Z_PUNTO_VENTA'].value_counts()"
   ]
  },
  {
   "cell_type": "code",
   "execution_count": 15,
   "id": "c97eb00c",
   "metadata": {
    "ExecuteTime": {
     "end_time": "2022-07-28T22:41:41.764737Z",
     "start_time": "2022-07-28T22:40:47.838555Z"
    }
   },
   "outputs": [
    {
     "data": {
      "application/vnd.jupyter.widget-view+json": {
       "model_id": "776ca06b834b46ac8e1d4c535337ba76",
       "version_major": 2,
       "version_minor": 0
      },
      "text/plain": [
       "                                             |                                             | [  0%]   00:00 ->…"
      ]
     },
     "metadata": {},
     "output_type": "display_data"
    },
    {
     "name": "stdout",
     "output_type": "stream",
     "text": [
      "Report Reporting.html was generated! NOTEBOOK/COLAB USERS: the web browser MAY not pop up, regardless, the report IS saved in your notebook/colab files.\n"
     ]
    }
   ],
   "source": [
    "advert_report = sv.analyze(df_train)\n",
    "advert_report.show_html(\"Reporting.html\")"
   ]
  },
  {
   "cell_type": "code",
   "execution_count": 16,
   "id": "017133a9",
   "metadata": {
    "ExecuteTime": {
     "end_time": "2022-07-28T22:48:58.664696Z",
     "start_time": "2022-07-28T22:48:58.211315Z"
    }
   },
   "outputs": [],
   "source": [
    "df_test = pd.read_csv('test.csv', sep=',')"
   ]
  },
  {
   "cell_type": "code",
   "execution_count": 17,
   "id": "fff880bc",
   "metadata": {
    "ExecuteTime": {
     "end_time": "2022-07-28T22:49:12.983311Z",
     "start_time": "2022-07-28T22:49:12.962329Z"
    }
   },
   "outputs": [
    {
     "data": {
      "text/html": [
       "<div>\n",
       "<style scoped>\n",
       "    .dataframe tbody tr th:only-of-type {\n",
       "        vertical-align: middle;\n",
       "    }\n",
       "\n",
       "    .dataframe tbody tr th {\n",
       "        vertical-align: top;\n",
       "    }\n",
       "\n",
       "    .dataframe thead th {\n",
       "        text-align: right;\n",
       "    }\n",
       "</style>\n",
       "<table border=\"1\" class=\"dataframe\">\n",
       "  <thead>\n",
       "    <tr style=\"text-align: right;\">\n",
       "      <th></th>\n",
       "      <th>Z_MARCA</th>\n",
       "      <th>Z_GAMA</th>\n",
       "      <th>Z_MODELO</th>\n",
       "      <th>Z_DEPARTAMENTO</th>\n",
       "      <th>Z_PUNTO_VENTA</th>\n",
       "      <th>SEMANA_51</th>\n",
       "      <th>SEMANA_52</th>\n",
       "      <th>SEMANA_53</th>\n",
       "      <th>SEMANA_54</th>\n",
       "      <th>SEMANA_55</th>\n",
       "      <th>SEMANA_56</th>\n",
       "      <th>SEMANA_57</th>\n",
       "      <th>SEMANA_58</th>\n",
       "      <th>SEMANA_59</th>\n",
       "      <th>SEMANA_60</th>\n",
       "    </tr>\n",
       "  </thead>\n",
       "  <tbody>\n",
       "    <tr>\n",
       "      <th>0</th>\n",
       "      <td>f223faa96f22916294922b171a2696d868fd1f9129302e...</td>\n",
       "      <td>de88c121a82a06352bf1aaceba20578356408a334ba046...</td>\n",
       "      <td>f0465138ce3c092d78c1e33657fe604564d40cdc8cb196...</td>\n",
       "      <td>591c0a0133cb5fcd00af7bbf046f094256901239749fb7...</td>\n",
       "      <td>d2c888e1a77f2eb0732555cf018c3ca71bbcb32c73778c...</td>\n",
       "      <td>99</td>\n",
       "      <td>99</td>\n",
       "      <td>99</td>\n",
       "      <td>99</td>\n",
       "      <td>99</td>\n",
       "      <td>99</td>\n",
       "      <td>99</td>\n",
       "      <td>99</td>\n",
       "      <td>99</td>\n",
       "      <td>99</td>\n",
       "    </tr>\n",
       "  </tbody>\n",
       "</table>\n",
       "</div>"
      ],
      "text/plain": [
       "                                             Z_MARCA  \\\n",
       "0  f223faa96f22916294922b171a2696d868fd1f9129302e...   \n",
       "\n",
       "                                              Z_GAMA  \\\n",
       "0  de88c121a82a06352bf1aaceba20578356408a334ba046...   \n",
       "\n",
       "                                            Z_MODELO  \\\n",
       "0  f0465138ce3c092d78c1e33657fe604564d40cdc8cb196...   \n",
       "\n",
       "                                      Z_DEPARTAMENTO  \\\n",
       "0  591c0a0133cb5fcd00af7bbf046f094256901239749fb7...   \n",
       "\n",
       "                                       Z_PUNTO_VENTA  SEMANA_51  SEMANA_52  \\\n",
       "0  d2c888e1a77f2eb0732555cf018c3ca71bbcb32c73778c...         99         99   \n",
       "\n",
       "   SEMANA_53  SEMANA_54  SEMANA_55  SEMANA_56  SEMANA_57  SEMANA_58  \\\n",
       "0         99         99         99         99         99         99   \n",
       "\n",
       "   SEMANA_59  SEMANA_60  \n",
       "0         99         99  "
      ]
     },
     "execution_count": 17,
     "metadata": {},
     "output_type": "execute_result"
    }
   ],
   "source": [
    "df_test.head(1)"
   ]
  },
  {
   "cell_type": "code",
   "execution_count": 18,
   "id": "18dba45d",
   "metadata": {
    "ExecuteTime": {
     "end_time": "2022-07-28T22:49:28.034573Z",
     "start_time": "2022-07-28T22:49:28.026585Z"
    }
   },
   "outputs": [
    {
     "data": {
      "text/plain": [
       "(47173, 15)"
      ]
     },
     "execution_count": 18,
     "metadata": {},
     "output_type": "execute_result"
    }
   ],
   "source": [
    "df_test.shape"
   ]
  },
  {
   "cell_type": "code",
   "execution_count": 22,
   "id": "b9466f2e",
   "metadata": {
    "ExecuteTime": {
     "end_time": "2022-07-28T22:53:15.972238Z",
     "start_time": "2022-07-28T22:53:15.960236Z"
    }
   },
   "outputs": [
    {
     "data": {
      "text/plain": [
       "Index(['Z_MARCA', 'Z_GAMA', 'Z_MODELO', 'Z_DEPARTAMENTO', 'Z_PUNTO_VENTA',\n",
       "       'SEMANA_51', 'SEMANA_52', 'SEMANA_53', 'SEMANA_54', 'SEMANA_55',\n",
       "       'SEMANA_56', 'SEMANA_57', 'SEMANA_58', 'SEMANA_59', 'SEMANA_60'],\n",
       "      dtype='object')"
      ]
     },
     "execution_count": 22,
     "metadata": {},
     "output_type": "execute_result"
    }
   ],
   "source": [
    "df_test.columns"
   ]
  },
  {
   "cell_type": "code",
   "execution_count": 19,
   "id": "0657e622",
   "metadata": {
    "ExecuteTime": {
     "end_time": "2022-07-28T22:49:33.682399Z",
     "start_time": "2022-07-28T22:49:31.690330Z"
    }
   },
   "outputs": [],
   "source": [
    "df_test_sample = pd.read_csv('test_sample.csv', sep=',')"
   ]
  },
  {
   "cell_type": "code",
   "execution_count": 20,
   "id": "d3f8ea24",
   "metadata": {
    "ExecuteTime": {
     "end_time": "2022-07-28T22:49:54.225760Z",
     "start_time": "2022-07-28T22:49:54.211767Z"
    }
   },
   "outputs": [
    {
     "data": {
      "text/plain": [
       "(471730, 2)"
      ]
     },
     "execution_count": 20,
     "metadata": {},
     "output_type": "execute_result"
    }
   ],
   "source": [
    "df_test_sample.shape"
   ]
  },
  {
   "cell_type": "code",
   "execution_count": 21,
   "id": "139e1f6f",
   "metadata": {
    "ExecuteTime": {
     "end_time": "2022-07-28T22:50:28.948925Z",
     "start_time": "2022-07-28T22:50:28.928927Z"
    }
   },
   "outputs": [
    {
     "data": {
      "text/html": [
       "<div>\n",
       "<style scoped>\n",
       "    .dataframe tbody tr th:only-of-type {\n",
       "        vertical-align: middle;\n",
       "    }\n",
       "\n",
       "    .dataframe tbody tr th {\n",
       "        vertical-align: top;\n",
       "    }\n",
       "\n",
       "    .dataframe thead th {\n",
       "        text-align: right;\n",
       "    }\n",
       "</style>\n",
       "<table border=\"1\" class=\"dataframe\">\n",
       "  <thead>\n",
       "    <tr style=\"text-align: right;\">\n",
       "      <th></th>\n",
       "      <th>ID</th>\n",
       "      <th>Demanda</th>\n",
       "    </tr>\n",
       "  </thead>\n",
       "  <tbody>\n",
       "    <tr>\n",
       "      <th>0</th>\n",
       "      <td>a21547b528067f34dbf50ad8f9d03ce0527e1dea169d4e...</td>\n",
       "      <td>99</td>\n",
       "    </tr>\n",
       "    <tr>\n",
       "      <th>1</th>\n",
       "      <td>a21547b528067f34dbf50ad8f9d03ce0527e1dea169d4e...</td>\n",
       "      <td>99</td>\n",
       "    </tr>\n",
       "    <tr>\n",
       "      <th>2</th>\n",
       "      <td>a21547b528067f34dbf50ad8f9d03ce0527e1dea169d4e...</td>\n",
       "      <td>99</td>\n",
       "    </tr>\n",
       "    <tr>\n",
       "      <th>3</th>\n",
       "      <td>a21547b528067f34dbf50ad8f9d03ce0527e1dea169d4e...</td>\n",
       "      <td>99</td>\n",
       "    </tr>\n",
       "    <tr>\n",
       "      <th>4</th>\n",
       "      <td>a21547b528067f34dbf50ad8f9d03ce0527e1dea169d4e...</td>\n",
       "      <td>99</td>\n",
       "    </tr>\n",
       "  </tbody>\n",
       "</table>\n",
       "</div>"
      ],
      "text/plain": [
       "                                                  ID  Demanda\n",
       "0  a21547b528067f34dbf50ad8f9d03ce0527e1dea169d4e...       99\n",
       "1  a21547b528067f34dbf50ad8f9d03ce0527e1dea169d4e...       99\n",
       "2  a21547b528067f34dbf50ad8f9d03ce0527e1dea169d4e...       99\n",
       "3  a21547b528067f34dbf50ad8f9d03ce0527e1dea169d4e...       99\n",
       "4  a21547b528067f34dbf50ad8f9d03ce0527e1dea169d4e...       99"
      ]
     },
     "execution_count": 21,
     "metadata": {},
     "output_type": "execute_result"
    }
   ],
   "source": [
    "df_test_sample.head()"
   ]
  },
  {
   "cell_type": "code",
   "execution_count": 26,
   "id": "78d885bb",
   "metadata": {
    "ExecuteTime": {
     "end_time": "2022-07-28T22:56:20.532912Z",
     "start_time": "2022-07-28T22:56:20.490931Z"
    }
   },
   "outputs": [
    {
     "data": {
      "text/plain": [
       "'a21547b528067f34dbf50ad8f9d03ce0527e1dea169d4e8db4a278f204f9b824|4d9927f9d9ebe9b3742b20cf87b37b72c526f39d160289e219cbc652f046fd93|f793de205ead5ac302c4a1627829dea41f176b1068b993a32373fc869918374b|SEMANA_51'"
      ]
     },
     "execution_count": 26,
     "metadata": {},
     "output_type": "execute_result"
    }
   ],
   "source": [
    "df_test_sample.loc[0,'ID']"
   ]
  },
  {
   "cell_type": "code",
   "execution_count": 28,
   "id": "26d2c576",
   "metadata": {
    "ExecuteTime": {
     "end_time": "2022-07-28T23:03:45.210023Z",
     "start_time": "2022-07-28T23:03:45.188036Z"
    }
   },
   "outputs": [
    {
     "data": {
      "text/plain": [
       "Z_MARCA           0\n",
       "Z_GAMA            0\n",
       "Z_MODELO          0\n",
       "Z_DEPARTAMENTO    0\n",
       "Z_PUNTO_VENTA     0\n",
       "SEMANA_01         0\n",
       "SEMANA_02         0\n",
       "SEMANA_03         0\n",
       "SEMANA_04         0\n",
       "SEMANA_05         0\n",
       "SEMANA_06         0\n",
       "SEMANA_07         0\n",
       "SEMANA_08         0\n",
       "SEMANA_09         0\n",
       "SEMANA_10         0\n",
       "SEMANA_11         0\n",
       "SEMANA_12         0\n",
       "SEMANA_13         0\n",
       "SEMANA_14         0\n",
       "SEMANA_15         0\n",
       "SEMANA_16         0\n",
       "SEMANA_17         0\n",
       "SEMANA_18         0\n",
       "SEMANA_19         0\n",
       "SEMANA_20         0\n",
       "SEMANA_21         0\n",
       "SEMANA_22         0\n",
       "SEMANA_23         0\n",
       "SEMANA_24         0\n",
       "SEMANA_25         0\n",
       "SEMANA_26         0\n",
       "SEMANA_27         0\n",
       "SEMANA_28         0\n",
       "SEMANA_29         0\n",
       "SEMANA_30         0\n",
       "SEMANA_31         0\n",
       "SEMANA_32         0\n",
       "SEMANA_33         0\n",
       "SEMANA_34         0\n",
       "SEMANA_35         0\n",
       "SEMANA_36         0\n",
       "SEMANA_37         0\n",
       "SEMANA_38         0\n",
       "SEMANA_39         0\n",
       "SEMANA_40         0\n",
       "SEMANA_41         0\n",
       "SEMANA_42         0\n",
       "SEMANA_43         0\n",
       "SEMANA_44         0\n",
       "SEMANA_45         0\n",
       "SEMANA_46         0\n",
       "SEMANA_47         0\n",
       "SEMANA_48         0\n",
       "SEMANA_49         0\n",
       "SEMANA_50         0\n",
       "dtype: int64"
      ]
     },
     "execution_count": 28,
     "metadata": {},
     "output_type": "execute_result"
    }
   ],
   "source": [
    "df_train.isna().sum()"
   ]
  },
  {
   "cell_type": "code",
   "execution_count": 27,
   "id": "4e186660",
   "metadata": {
    "ExecuteTime": {
     "end_time": "2022-07-28T23:03:34.345239Z",
     "start_time": "2022-07-28T23:03:34.324246Z"
    }
   },
   "outputs": [
    {
     "data": {
      "text/plain": [
       "Z_MARCA           0\n",
       "Z_GAMA            0\n",
       "Z_MODELO          0\n",
       "Z_DEPARTAMENTO    0\n",
       "Z_PUNTO_VENTA     0\n",
       "SEMANA_51         0\n",
       "SEMANA_52         0\n",
       "SEMANA_53         0\n",
       "SEMANA_54         0\n",
       "SEMANA_55         0\n",
       "SEMANA_56         0\n",
       "SEMANA_57         0\n",
       "SEMANA_58         0\n",
       "SEMANA_59         0\n",
       "SEMANA_60         0\n",
       "dtype: int64"
      ]
     },
     "execution_count": 27,
     "metadata": {},
     "output_type": "execute_result"
    }
   ],
   "source": [
    "df_test.isna().sum()"
   ]
  },
  {
   "cell_type": "code",
   "execution_count": null,
   "id": "b048e150",
   "metadata": {},
   "outputs": [],
   "source": []
  }
 ],
 "metadata": {
  "kernelspec": {
   "display_name": "Python 3",
   "language": "python",
   "name": "python3"
  },
  "language_info": {
   "codemirror_mode": {
    "name": "ipython",
    "version": 3
   },
   "file_extension": ".py",
   "mimetype": "text/x-python",
   "name": "python",
   "nbconvert_exporter": "python",
   "pygments_lexer": "ipython3",
   "version": "3.8.8"
  },
  "toc": {
   "base_numbering": 1,
   "nav_menu": {},
   "number_sections": false,
   "sideBar": true,
   "skip_h1_title": false,
   "title_cell": "Table of Contents",
   "title_sidebar": "Contents",
   "toc_cell": false,
   "toc_position": {},
   "toc_section_display": true,
   "toc_window_display": false
  },
  "varInspector": {
   "cols": {
    "lenName": 16,
    "lenType": 16,
    "lenVar": 40
   },
   "kernels_config": {
    "python": {
     "delete_cmd_postfix": "",
     "delete_cmd_prefix": "del ",
     "library": "var_list.py",
     "varRefreshCmd": "print(var_dic_list())"
    },
    "r": {
     "delete_cmd_postfix": ") ",
     "delete_cmd_prefix": "rm(",
     "library": "var_list.r",
     "varRefreshCmd": "cat(var_dic_list()) "
    }
   },
   "types_to_exclude": [
    "module",
    "function",
    "builtin_function_or_method",
    "instance",
    "_Feature"
   ],
   "window_display": false
  }
 },
 "nbformat": 4,
 "nbformat_minor": 5
}
